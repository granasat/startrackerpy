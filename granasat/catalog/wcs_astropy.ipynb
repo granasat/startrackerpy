{
 "cells": [
  {
   "cell_type": "code",
   "execution_count": 1,
   "metadata": {},
   "outputs": [],
   "source": [
    "from astropy.io import fits\n",
    "from astropy.coordinates import SkyCoord\n",
    "import astropy.units as u\n",
    "from astropy.wcs import WCS\n",
    "from astropy.wcs.utils import fit_wcs_from_points\n",
    "import numpy as np"
   ]
  },
  {
   "cell_type": "code",
   "execution_count": 2,
   "metadata": {},
   "outputs": [],
   "source": [
    "# I have the following stars identified in my image (andromeda):\n",
    "#  (X, Y)       --> (RA in degrees, DEC in degrees) --> HIP_ID\n",
    "#  (640, 555)   --> (17.43421495, 35.61993419)      --> 5447\n",
    "#  (1076, 32)  --> (2.09777329, 29.08952671)        --> 607\n",
    "#  (161, 903)  --> (30.9751282, 42.32944223)        --> 9640\n",
    "#  (932, 327)  --> (9.83272908, 30.86056254)        --> 3092"
   ]
  },
  {
   "cell_type": "code",
   "execution_count": 3,
   "metadata": {},
   "outputs": [
    {
     "data": {
      "text/plain": [
       "<SkyCoord (ICRS): (ra, dec) in deg\n",
       "    [(17.43421495, 35.61993419), ( 2.09777329, 29.08952671),\n",
       "     (30.9751282 , 42.32944223)]>"
      ]
     },
     "execution_count": 3,
     "metadata": {},
     "output_type": "execute_result"
    }
   ],
   "source": [
    "stars = SkyCoord(ra=[17.43421495, 2.09777329, 30.9751282], \n",
    "                 dec=[35.61993419, 29.08952671, 42.32944223], \n",
    "                 unit=u.deg)\n",
    "stars"
   ]
  },
  {
   "cell_type": "code",
   "execution_count": 4,
   "metadata": {},
   "outputs": [],
   "source": [
    "pixels_x = np.array([640, 1076, 161])\n",
    "pixels_y = np.array([555, 32, 903])"
   ]
  },
  {
   "cell_type": "code",
   "execution_count": 5,
   "metadata": {},
   "outputs": [
    {
     "data": {
      "text/plain": [
       "WCS Keywords\n",
       "\n",
       "Number of WCS axes: 2\n",
       "CTYPE : 'RA---TAN'  'DEC--TAN'  \n",
       "CRVAL : 17.766964192663316  36.579008796855184  \n",
       "CRPIX : 592.6586327446495  556.5129799414893  \n",
       "CD1_1 CD1_2  : -0.005364995097946517  0.021793080410469862  \n",
       "CD2_1 CD2_2  : -0.01989379722883022  -0.005822346412126356  \n",
       "NAXIS : 915  871"
      ]
     },
     "execution_count": 5,
     "metadata": {},
     "output_type": "execute_result"
    }
   ],
   "source": [
    "wcs = fit_wcs_from_points((pixels_x, pixels_y), stars); wcs"
   ]
  },
  {
   "cell_type": "code",
   "execution_count": 7,
   "metadata": {},
   "outputs": [
    {
     "data": {
      "text/plain": [
       "array([[17.43421495, 35.61993419]])"
      ]
     },
     "execution_count": 7,
     "metadata": {},
     "output_type": "execute_result"
    }
   ],
   "source": [
    "wcs.wcs_pix2world(np.array([[640, 555]]),0)"
   ]
  },
  {
   "cell_type": "code",
   "execution_count": 8,
   "metadata": {},
   "outputs": [
    {
     "data": {
      "text/plain": [
       "array([[ 9.89940822, 30.91569098]])"
      ]
     },
     "execution_count": 8,
     "metadata": {},
     "output_type": "execute_result"
    }
   ],
   "source": [
    "wcs.wcs_pix2world(np.array([[932, 327]]),0)"
   ]
  },
  {
   "cell_type": "code",
   "execution_count": null,
   "metadata": {},
   "outputs": [],
   "source": []
  }
 ],
 "metadata": {
  "kernelspec": {
   "display_name": "Python 3",
   "language": "python",
   "name": "python3"
  },
  "language_info": {
   "codemirror_mode": {
    "name": "ipython",
    "version": 3
   },
   "file_extension": ".py",
   "mimetype": "text/x-python",
   "name": "python",
   "nbconvert_exporter": "python",
   "pygments_lexer": "ipython3",
   "version": "3.8.5"
  }
 },
 "nbformat": 4,
 "nbformat_minor": 4
}
