{
 "cells": [
  {
   "cell_type": "code",
   "execution_count": 1,
   "metadata": {},
   "outputs": [],
   "source": [
    "# We have polaris and 47Cas stars real data\n",
    "# Then we want to calculate its distance using our algorithm\n",
    "# Then also calculate the distance but this time using the pixel centroids of the image\n",
    "# We know the pixels because of astrometry.\n",
    "import math\n",
    "import numpy as np"
   ]
  },
  {
   "cell_type": "code",
   "execution_count": 15,
   "metadata": {},
   "outputs": [],
   "source": [
    "def convertRADEC(ra, dec):\n",
    "    \"\"\"Converts the given ra and dec to its cartesian coordinates\"\"\"\n",
    "    r = 1\n",
    "    x = r * math.sin(np.deg2rad(dec)) * math.cos(np.deg2rad(ra))\n",
    "    y = r * math.sin(np.deg2rad(dec)) * math.sin(np.deg2rad(ra))\n",
    "    z = r * math.cos(np.deg2rad(dec))\n",
    "\n",
    "    return [x, y, z]\n",
    "\n",
    "\n",
    "def getDistance(a, b):\n",
    "    a_car = convertRADEC(a[0], a[1] + 90)\n",
    "    b_car = convertRADEC(b[0], b[1] + 90)\n",
    "    dab = math.degrees(math.acos(a_car[0] * b_car[0] + \n",
    "                                 a_car[1] * b_car[1] +\n",
    "                                 a_car[2] * b_car[2]))\n",
    "    return dab"
   ]
  },
  {
   "cell_type": "code",
   "execution_count": 16,
   "metadata": {},
   "outputs": [],
   "source": [
    "star_polaris_ra_dec = [37.95456067, 89.26410897]\n",
    "star_47cas_ra_dec = [31.28093428, 77.28134006]"
   ]
  },
  {
   "cell_type": "code",
   "execution_count": 17,
   "metadata": {},
   "outputs": [],
   "source": [
    "dpolaris_47cas = getDistance(star_polaris_ra_dec, star_47cas_ra_dec)"
   ]
  },
  {
   "cell_type": "code",
   "execution_count": 18,
   "metadata": {},
   "outputs": [
    {
     "name": "stdout",
     "output_type": "stream",
     "text": [
      "dpolaris_47cas=11.988055149\n"
     ]
    }
   ],
   "source": [
    "print(f'{dpolaris_47cas=:.9f}')"
   ]
  },
  {
   "cell_type": "code",
   "execution_count": 6,
   "metadata": {},
   "outputs": [],
   "source": [
    "# centroid pixel coordinates in image polar_05secs:\n",
    "#  polaris: [631, 507]\n",
    "#  47cas:   [1150, 290]"
   ]
  },
  {
   "cell_type": "code",
   "execution_count": 7,
   "metadata": {},
   "outputs": [],
   "source": [
    "# Now using the centroids we will get their unitary vectors using the equations from Manuel\n",
    "# And we should see the same distance"
   ]
  },
  {
   "cell_type": "code",
   "execution_count": 27,
   "metadata": {},
   "outputs": [],
   "source": [
    "# f is the focal length\n",
    "f = 2657.33\n",
    "\n",
    "def computeUnitaryVector(centroid, f):\n",
    "    CENTER_X = 666\n",
    "    CENTER_Y = 440\n",
    "    x = centroid[0] - CENTER_X\n",
    "    y = centroid[1] - CENTER_Y\n",
    "    x_u = math.cos(math.atan2(y, x)) * math.cos(math.pi/2 - math.atan(math.sqrt(pow(x/f, 2)+pow(y/f, 2))))\n",
    "    y_u = math.sin(math.atan2(y, x)) * math.cos(math.pi/2 - math.atan(math.sqrt(pow(x/f, 2)+pow(y/f, 2))))\n",
    "    z_u = math.sin(math.pi/2 - math.atan(math.sqrt(pow(x/f, 2) + pow(y/f, 2))))\n",
    "\n",
    "    return [x_u, y_u, z_u]\n",
    "\n",
    "def getDistanceUnitaries(a, b):\n",
    "    dab = math.degrees(math.acos(a[0] * b[0] + \n",
    "                                 a[1] * b[1] +\n",
    "                                 a[2] * b[2]))\n",
    "    return dab\n"
   ]
  },
  {
   "cell_type": "code",
   "execution_count": 28,
   "metadata": {},
   "outputs": [],
   "source": [
    "star_polaris_unitary_v = computeUnitaryVector([631, 507], f)\n",
    "star_47cas_unitary_v = computeUnitaryVector([1150, 290], f)"
   ]
  },
  {
   "cell_type": "code",
   "execution_count": 29,
   "metadata": {},
   "outputs": [
    {
     "data": {
      "text/plain": [
       "11.999126569076228"
      ]
     },
     "execution_count": 29,
     "metadata": {},
     "output_type": "execute_result"
    }
   ],
   "source": [
    "getDistanceUnitaries(star_polaris_unitary_v, star_47cas_unitary_v)"
   ]
  },
  {
   "cell_type": "code",
   "execution_count": null,
   "metadata": {},
   "outputs": [],
   "source": []
  }
 ],
 "metadata": {
  "kernelspec": {
   "display_name": "Python 3",
   "language": "python",
   "name": "python3"
  },
  "language_info": {
   "codemirror_mode": {
    "name": "ipython",
    "version": 3
   },
   "file_extension": ".py",
   "mimetype": "text/x-python",
   "name": "python",
   "nbconvert_exporter": "python",
   "pygments_lexer": "ipython3",
   "version": "3.8.5"
  }
 },
 "nbformat": 4,
 "nbformat_minor": 4
}
