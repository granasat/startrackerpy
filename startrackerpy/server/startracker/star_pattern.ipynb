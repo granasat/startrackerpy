{
 "cells": [
  {
   "cell_type": "code",
   "execution_count": 1,
   "metadata": {},
   "outputs": [],
   "source": [
    "# Load image\n",
    "# Get their 3 image stars most brightness\n",
    "# Get the distances: a->b, a->c, b->c\n",
    "# Load the catalog\n",
    "# Get pairs in the distance ab+-0.1 and save them as S1\n",
    "# Get pairs in the distance ac+-0.1 and save them as S2\n",
    "# For each star in both S1 and S2 check the other two stars angular distance\n",
    "# it should be equal to ac+-0.1"
   ]
  },
  {
   "cell_type": "code",
   "execution_count": 2,
   "metadata": {},
   "outputs": [],
   "source": [
    "import cv2\n",
    "import numpy as np\n",
    "from image_star import ImageStar, Centroid\n",
    "from catalog import Catalog\n",
    "\n"
   ]
  },
  {
   "cell_type": "code",
   "execution_count": 3,
   "metadata": {},
   "outputs": [],
   "source": [
    "def compute_i_border(cX, cY, ROI, img):\n",
    "    offset = int((ROI-1)/2)\n",
    "    x_start = cX - offset # 0\n",
    "    x_end = cX + offset # 4\n",
    "    y_start = cY - offset # 0\n",
    "    y_end = cY + offset # 4\n",
    "    i_border = 0\n",
    "\n",
    "    if x_start < 0 or x_end >= img.shape[1]:\n",
    "        return i_border\n",
    "    if y_start < 0 or y_end >= img.shape[0]:\n",
    "        return i_border\n",
    "\n",
    "    for x in range(x_start, x_end+1):\n",
    "        i_border += img[y_start][x] # Top border\n",
    "        i_border += img[y_end][x] # Bottom border\n",
    "\n",
    "    for y in range(y_start+1, y_end):\n",
    "        i_border += img[y][x_start] # Left border\n",
    "        i_border += img[y][x_end] # Right border\n",
    "\n",
    "    return i_border/(4*(ROI-1))\n",
    "\n",
    "\n",
    "def compute_i_brightness(cX, cY, i_border, ROI, img):\n",
    "    offset = int((ROI-1) / 2 - 1)\n",
    "    x_start = cX - offset\n",
    "    x_end = cX + offset\n",
    "    y_start = cY - offset\n",
    "    y_end = cY + offset\n",
    "    B = 0\n",
    "\n",
    "    if x_start < 0 or x_end > img.shape[1]:\n",
    "        return B\n",
    "    if y_start < 0 or y_end > img.shape[0]:\n",
    "        return B\n",
    "\n",
    "    for x in range(x_start, x_end+1):\n",
    "        for y in range(y_start, y_end+1):\n",
    "            pixel_value = img[y][x]\n",
    "            B += pixel_value - i_border\n",
    "    x_cm = 0.0\n",
    "    y_cm = 0.0\n",
    "    if B != 0:\n",
    "        for x in range(x_start, x_end+1):\n",
    "            for y in range(y_start, y_end+1):\n",
    "                pixel_value = img[y][x] - i_border\n",
    "                x_cm = x_cm + (x*pixel_value)/B\n",
    "                y_cm = y_cm + (y*pixel_value)/B\n",
    "    else:\n",
    "        x_cm = x_start + (x_end-x_start)/2\n",
    "        y_cm = y_start + (y_end-y_start)/2\n",
    "\n",
    "    return [x_cm, y_cm, B]\n",
    "\n",
    "\n",
    "def simplify_img_stars(stars, thresh1=9, thresh2=4):\n",
    "    simplified = []\n",
    "\n",
    "    for i in range(0, len(stars)):\n",
    "        suma_x = 0\n",
    "        suma_y = 0\n",
    "        suma_B = 0\n",
    "        if stars[i].centroid.x != 2000 and stars[i].centroid.y != 2000:\n",
    "            new_x = stars[i].centroid.x\n",
    "            new_y = stars[i].centroid.y\n",
    "            new_B = stars[i].brightness\n",
    "            pixels = 1\n",
    "\n",
    "            suma_x = new_x\n",
    "            suma_y = new_y\n",
    "            suma_B = new_B\n",
    "\n",
    "            for j in range(i+1, len(stars)):\n",
    "                if abs(new_x - stars[j].centroid.x) <= thresh1 and abs(new_y - stars[j].centroid.y) <= thresh1:\n",
    "                    suma_x += stars[j].centroid.x\n",
    "                    suma_y += stars[j].centroid.y\n",
    "                    suma_B += stars[j].brightness\n",
    "                    pixels += 1\n",
    "                    stars[j].centroid.x = 2000\n",
    "                    stars[j].centroid.y = 2000\n",
    "\n",
    "            stars[i].centroid.x = 2000\n",
    "            stars[i].centroid.y = 2000\n",
    "            if pixels > thresh2:\n",
    "                centroid = Centroid(suma_x/pixels, suma_y/pixels)\n",
    "                img_star = ImageStar(centroid, suma_B/pixels)\n",
    "                simplified.append(img_star)\n",
    "\n",
    "    return simplified\n"
   ]
  },
  {
   "cell_type": "code",
   "execution_count": 103,
   "metadata": {},
   "outputs": [],
   "source": [
    "image = cv2.imread(\"./test_images/vega_05sec.jpg\")\n",
    "# Grayscale\n",
    "gray = cv2.cvtColor(image, cv2.COLOR_BGR2GRAY)"
   ]
  },
  {
   "cell_type": "code",
   "execution_count": 104,
   "metadata": {},
   "outputs": [
    {
     "name": "stdout",
     "output_type": "stream",
     "text": [
      "1142.852130425894 603.109172475432 3172.407738095238\n",
      "1239.9489682160768 776.0931532642597 2681.3459821428573\n",
      "496.6762730980482 392.0364623002791 2323.4523026315787\n"
     ]
    }
   ],
   "source": [
    "img_stars = []\n",
    "# Step 1: Get possible Image stars, these are possible stars in the image.\n",
    "# Define ROI, must be odd number\n",
    "my_ROI = 9\n",
    "limit = int((my_ROI - 1) / 2)\n",
    "thresh_min_value = 80\n",
    "for x in range(limit, gray.shape[1]-limit):\n",
    "    for y in range(limit, gray.shape[0]-limit):\n",
    "        if gray[y][x] >= thresh_min_value:\n",
    "            my_i_border = compute_i_border(x, y, my_ROI, gray)\n",
    "            my_x_cm, my_y_cm, my_B = compute_i_brightness(x, y, my_i_border, my_ROI, gray)\n",
    "            centroid = Centroid(my_x_cm, my_y_cm)\n",
    "            img_star = ImageStar(centroid, my_B)\n",
    "            img_stars.append(img_star)\n",
    "\n",
    "img_stars = simplify_img_stars(img_stars)\n",
    "# Sort image_stars by brightness\n",
    "img_stars = sorted(img_stars, key=lambda x: x.brightness, reverse=True)\n",
    "# Print the thre most brightness stars selected\n",
    "for i in range(0,3):\n",
    "    print(img_stars[i].centroid.x, img_stars[i].centroid.y, img_stars[i].brightness)"
   ]
  },
  {
   "cell_type": "code",
   "execution_count": 105,
   "metadata": {},
   "outputs": [],
   "source": [
    "# Compute unitary vectors\n",
    "unitaries = []\n",
    "for img_star in img_stars:\n",
    "    unitaries.append(img_star.get_unitary_vector())\n"
   ]
  },
  {
   "cell_type": "code",
   "execution_count": 106,
   "metadata": {},
   "outputs": [],
   "source": [
    "# load catalogs\n",
    "catalog = Catalog(\"./generation/out/hip_2020.csv\",\n",
    "                  \"./generation/out/guide_stars_2020_4.5.csv\",\n",
    "                  \"./generation/out/guide_stars_neighboors_4.5.json\")\n"
   ]
  },
  {
   "cell_type": "code",
   "execution_count": 107,
   "metadata": {},
   "outputs": [
    {
     "name": "stdout",
     "output_type": "stream",
     "text": [
      "d_star1_star2=4.116234805246254 d_star1_star3=14.515775341278863 d_star2_star3=17.742570176274008\n"
     ]
    }
   ],
   "source": [
    "star1 = img_stars[0]\n",
    "star2 = img_stars[1]\n",
    "star3 = img_stars[2]\n",
    "\n",
    "\n",
    "d_star1_star2 = star1.get_distance(star2)\n",
    "d_star1_star3 = star1.get_distance(star3)\n",
    "d_star2_star3 = star2.get_distance(star3)\n",
    "\n",
    "print(f'{d_star1_star2=} {d_star1_star3=} {d_star2_star3=}')\n"
   ]
  },
  {
   "cell_type": "code",
   "execution_count": 108,
   "metadata": {},
   "outputs": [],
   "source": [
    "# Get pairs in distance star1->star2 (11.800359100347473) +- 0.1\n",
    "pairs_a_b = catalog.get_pairs_distance(d_star1_star2-0.1, d_star1_star2+0.1)\n",
    "pairs_a_c = catalog.get_pairs_distance(d_star1_star3-0.1, d_star1_star3+0.1)"
   ]
  },
  {
   "cell_type": "code",
   "execution_count": 109,
   "metadata": {},
   "outputs": [
    {
     "name": "stdout",
     "output_type": "stream",
     "text": [
      "Triplet found:\n",
      "pair1=[85670, 87833, 4.117412872783996] pair2=[87833, 91262, 14.528670955016638] pair3=[85670, 91262, 17.75470365207743\n"
     ]
    }
   ],
   "source": [
    "for pair1 in pairs_a_b:\n",
    "    for pair2 in pairs_a_c:\n",
    "        if pair1[0] == pair2[0]:\n",
    "            hip_x = pair1[1]\n",
    "            hip_y = pair2[1]\n",
    "        elif pair1[0] == pair2[1]:\n",
    "            hip_x = pair1[1]\n",
    "            hip_y = pair2[0]\n",
    "        elif pair1[1] == pair2[0]:\n",
    "            hip_x = pair1[0]\n",
    "            hip_y = pair2[1]\n",
    "        elif pair1[1] == pair2[1]:\n",
    "            hip_x = pair1[0]\n",
    "            hip_y = pair2[0]\n",
    "        else:\n",
    "            continue\n",
    "            \n",
    "        star_x = catalog.get_star_by_id(hip_x)\n",
    "        star_y = catalog.get_star_by_id(hip_y)\n",
    "        other_distance = star_x.get_distance(star_y)\n",
    "        if other_distance > d_star2_star3-0.1 and other_distance < d_star2_star3+0.1:\n",
    "            print(f'Triplet found:')\n",
    "            print(f'{pair1=} {pair2=} pair3=[{hip_x}, {hip_y}, {other_distance}')\n",
    "            "
   ]
  },
  {
   "cell_type": "code",
   "execution_count": 110,
   "metadata": {},
   "outputs": [
    {
     "name": "stdout",
     "output_type": "stream",
     "text": [
      "d_star2_star1=4.116234805246254 d_star2_star3=17.742570176274008 d_star1_star3=14.515775341278863\n"
     ]
    }
   ],
   "source": [
    "# try again with star2 as kernel\n",
    "star1 = img_stars[0]\n",
    "star2 = img_stars[1]\n",
    "star3 = img_stars[2]\n",
    "\n",
    "\n",
    "d_star2_star1 = star2.get_distance(star1)\n",
    "d_star2_star3 = star2.get_distance(star3)\n",
    "d_star1_star3 = star1.get_distance(star3)\n",
    "\n",
    "print(f'{d_star2_star1=} {d_star2_star3=} {d_star1_star3=}')"
   ]
  },
  {
   "cell_type": "code",
   "execution_count": 111,
   "metadata": {},
   "outputs": [],
   "source": [
    "pairs_b_a = catalog.get_pairs_distance(d_star2_star1-0.1, d_star2_star1+0.1)\n",
    "pairs_b_c = catalog.get_pairs_distance(d_star2_star3-0.1, d_star2_star3+0.1)"
   ]
  },
  {
   "cell_type": "code",
   "execution_count": 112,
   "metadata": {},
   "outputs": [
    {
     "name": "stdout",
     "output_type": "stream",
     "text": [
      "Triplet found:\n",
      "pair1=[85670, 87833, 4.117412872783996] pair2=[85670, 91262, 17.75470365207743] pair3=[87833, 91262, 14.528670955016638\n"
     ]
    }
   ],
   "source": [
    "for pair1 in pairs_b_a:\n",
    "    for pair2 in pairs_b_c:\n",
    "        if pair1[0] == pair2[0]:\n",
    "            hip_x = pair1[1]\n",
    "            hip_y = pair2[1]\n",
    "        elif pair1[0] == pair2[1]:\n",
    "            hip_x = pair1[1]\n",
    "            hip_y = pair2[0]\n",
    "        elif pair1[1] == pair2[0]:\n",
    "            hip_x = pair1[0]\n",
    "            hip_y = pair2[1]\n",
    "        elif pair1[1] == pair2[1]:\n",
    "            hip_x = pair1[0]\n",
    "            hip_y = pair2[0]\n",
    "        else:\n",
    "            continue\n",
    "            \n",
    "        star_x = catalog.get_star_by_id(hip_x)\n",
    "        star_y = catalog.get_star_by_id(hip_y)\n",
    "        other_distance = star_x.get_distance(star_y)\n",
    "        if other_distance > d_star1_star3-0.1 and other_distance < d_star1_star3+0.1:\n",
    "            print(f'Triplet found:')\n",
    "            print(f'{pair1=} {pair2=} pair3=[{hip_x}, {hip_y}, {other_distance}')"
   ]
  },
  {
   "cell_type": "code",
   "execution_count": 113,
   "metadata": {},
   "outputs": [
    {
     "name": "stdout",
     "output_type": "stream",
     "text": [
      "d_star3_star1=14.515775341278863 d_star3_star2=17.742570176274008 d_star1_star2=4.116234805246254\n"
     ]
    }
   ],
   "source": [
    "# Try again with star3 as kernel\n",
    "star1 = img_stars[0]\n",
    "star2 = img_stars[1]\n",
    "star3 = img_stars[2]\n",
    "\n",
    "\n",
    "d_star3_star1 = star3.get_distance(star1)\n",
    "d_star3_star2 = star3.get_distance(star2)\n",
    "d_star1_star2 = star1.get_distance(star2)\n",
    "\n",
    "print(f'{d_star3_star1=} {d_star3_star2=} {d_star1_star2=}')"
   ]
  },
  {
   "cell_type": "code",
   "execution_count": 114,
   "metadata": {},
   "outputs": [],
   "source": [
    "pairs_c_a = catalog.get_pairs_distance(d_star3_star1-0.1, d_star3_star1+0.1)\n",
    "pairs_c_b = catalog.get_pairs_distance(d_star3_star2-0.1, d_star3_star2+0.1)"
   ]
  },
  {
   "cell_type": "code",
   "execution_count": 115,
   "metadata": {},
   "outputs": [
    {
     "name": "stdout",
     "output_type": "stream",
     "text": [
      "Triplet found:\n",
      "pair1=[87833, 91262, 14.528670955016638] pair2=[85670, 91262, 17.75470365207743] pair3=[87833, 85670, 4.117412872783996\n"
     ]
    }
   ],
   "source": [
    "for pair1 in pairs_c_a:\n",
    "    for pair2 in pairs_c_b:\n",
    "        if pair1[0] == pair2[0]:\n",
    "            hip_x = pair1[1]\n",
    "            hip_y = pair2[1]\n",
    "        elif pair1[0] == pair2[1]:\n",
    "            hip_x = pair1[1]\n",
    "            hip_y = pair2[0]\n",
    "        elif pair1[1] == pair2[0]:\n",
    "            hip_x = pair1[0]\n",
    "            hip_y = pair2[1]\n",
    "        elif pair1[1] == pair2[1]:\n",
    "            hip_x = pair1[0]\n",
    "            hip_y = pair2[0]\n",
    "        else:\n",
    "            continue\n",
    "            \n",
    "        star_x = catalog.get_star_by_id(hip_x)\n",
    "        star_y = catalog.get_star_by_id(hip_y)\n",
    "        other_distance = star_x.get_distance(star_y)\n",
    "        if other_distance > d_star1_star2-0.1 and other_distance < d_star1_star2+0.1:\n",
    "            print(f'Triplet found:')\n",
    "            print(f'{pair1=} {pair2=} pair3=[{hip_x}, {hip_y}, {other_distance}')"
   ]
  },
  {
   "cell_type": "code",
   "execution_count": null,
   "metadata": {},
   "outputs": [],
   "source": []
  }
 ],
 "metadata": {
  "kernelspec": {
   "display_name": "Python 3",
   "language": "python",
   "name": "python3"
  },
  "language_info": {
   "codemirror_mode": {
    "name": "ipython",
    "version": 3
   },
   "file_extension": ".py",
   "mimetype": "text/x-python",
   "name": "python",
   "nbconvert_exporter": "python",
   "pygments_lexer": "ipython3",
   "version": "3.8.5"
  }
 },
 "nbformat": 4,
 "nbformat_minor": 4
}
